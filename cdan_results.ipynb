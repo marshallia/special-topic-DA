{
 "cells": [
  {
   "cell_type": "markdown",
   "metadata": {},
   "source": [
    "# CDAN Model Evaluation on Real Test Set\n",
    "\n",
    "Evaluate CDAN trained model for sim2real adaptation."
   ]
  },
  {
   "cell_type": "code",
   "execution_count": null,
   "metadata": {},
   "outputs": [],
   "source": [
    "import torch\n",
    "import torch.nn as nn\n",
    "from torchvision import transforms, datasets, models\n",
    "from torch.utils.data import DataLoader\n",
    "import numpy as np\n",
    "from sklearn.metrics import confusion_matrix, classification_report\n",
    "import seaborn as sns\n",
    "import matplotlib.pyplot as plt\n",
    "from torch.autograd import Function"
   ]
  },
  {
   "cell_type": "code",
   "execution_count": null,
   "metadata": {},
   "outputs": [],
   "source": [
    "# Paths & params\n",
    "REAL_TEST_DIR = 'data/real/test'\n",
    "MODEL_PATH = 'model/cdan_resnet18.pth'\n",
    "BATCH_SIZE = 32\n",
    "DEVICE = torch.device('cuda' if torch.cuda.is_available() else 'cpu')"
   ]
  },
  {
   "cell_type": "code",
   "execution_count": null,
   "metadata": {},
   "outputs": [],
   "source": [
    "# Data Loader\n",
    "transform = transforms.Compose([\n",
    "    transforms.Resize((224,224)),\n",
    "    transforms.ToTensor(),\n",
    "    transforms.Normalize([0.485,0.456,0.406],[0.229,0.224,0.225])\n",
    "])\n",
    "test_dataset = datasets.ImageFolder(REAL_TEST_DIR, transform=transform)\n",
    "test_loader = DataLoader(test_dataset, batch_size=BATCH_SIZE, shuffle=False)\n",
    "classes = test_dataset.classes"
   ]
  },
  {
   "cell_type": "code",
   "execution_count": null,
   "metadata": {},
   "outputs": [],
   "source": [
    "class GradReverse(Function):\n",
    "    @staticmethod\n",
    "    def forward(ctx, x, alpha):\n",
    "        ctx.alpha = alpha\n",
    "        return x.view_as(x)\n",
    "    @staticmethod\n",
    "    def backward(ctx, grad_output):\n",
    "        return grad_output.neg() * ctx.alpha, None\n",
    "def grad_reverse(x, alpha):\n",
    "    return GradReverse.apply(x, alpha)\n",
    "\n",
    "class CDANModel(nn.Module):\n",
    "    def __init__(self, num_classes):\n",
    "        super(CDANModel,self).__init__()\n",
    "        self.feature = models.resnet18(pretrained=True)\n",
    "        self.feature.fc = nn.Identity()\n",
    "        self.class_classifier = nn.Linear(512,num_classes)\n",
    "        self.domain_classifier = nn.Sequential(\n",
    "            nn.Linear(512*num_classes, 100),\n",
    "            nn.ReLU(),\n",
    "            nn.Linear(100,2)\n",
    "        )\n",
    "    def forward(self,x,alpha=0):\n",
    "        feat = self.feature(x)\n",
    "        class_output = self.class_classifier(feat)\n",
    "        softmax_out = torch.softmax(class_output, dim=1)\n",
    "        op = torch.bmm(softmax_out.unsqueeze(2), feat.unsqueeze(1))\n",
    "        op = op.view(op.size(0), -1)\n",
    "        reverse_feat = grad_reverse(op, alpha)\n",
    "        domain_output = self.domain_classifier(reverse_feat)\n",
    "        return class_output, domain_output"
   ]
  },
  {
   "cell_type": "code",
   "execution_count": null,
   "metadata": {},
   "outputs": [],
   "source": [
    "model = CDANModel(len(classes)).to(DEVICE)\n",
    "model.load_state_dict(torch.load(MODEL_PATH, map_location=DEVICE))\n",
    "model.eval()"
   ]
  },
  {
   "cell_type": "code",
   "execution_count": null,
   "metadata": {},
   "outputs": [],
   "source": [
    "all_labels = []\n",
    "all_preds = []\n",
    "with torch.no_grad():\n",
    "    for inputs, labels in test_loader:\n",
    "        inputs, labels = inputs.to(DEVICE), labels.to(DEVICE)\n",
    "        outputs, _ = model(inputs)\n",
    "        _, preds = torch.max(outputs,1)\n",
    "        all_labels.extend(labels.cpu().numpy())\n",
    "        all_preds.extend(preds.cpu().numpy())\n",
    "\n",
    "all_labels = np.array(all_labels)\n",
    "all_preds = np.array(all_preds)\n",
    "\n",
    "accuracy = np.mean(all_preds==all_labels)\n",
    "print(f'CDAN Accuracy on Real Test Set: {accuracy:.4f}')\n",
    "\n",
    "report = classification_report(all_labels, all_preds, target_names=classes)\n",
    "print('Classification Report:\\n', report)\n",
    "\n",
    "cm = confusion_matrix(all_labels, all_preds)\n",
    "plt.figure(figsize=(10,8))\n",
    "sns.heatmap(cm, annot=True, fmt='d', cmap='Blues', xticklabels=classes, yticklabels=classes)\n",
    "plt.xlabel('Predicted')\n",
    "plt.ylabel('True')\n",
    "plt.title('Confusion Matrix - CDAN on Real Test Set')\n",
    "plt.show()"
   ]
  }
 ],
 "metadata": {
  "language_info": {
   "name": "python"
  }
 },
 "nbformat": 4,
 "nbformat_minor": 5
}

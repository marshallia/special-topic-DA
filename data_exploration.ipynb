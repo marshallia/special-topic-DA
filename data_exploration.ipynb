{
 "cells": [
  {
   "cell_type": "markdown",
   "metadata": {},
   "source": [
    "# Dataset Exploration for Sim2Real Component Classification\n",
    "\n",
    "This notebook explores the provided dataset with simulated (sim) and real images."
   ]
  },
  {
   "cell_type": "code",
   "metadata": {},
   "source": [
    "# Imports\n",
    "import os\n",
    "from PIL import Image\n",
    "import matplotlib.pyplot as plt\n",
    "from collections import Counter\n",
    "\n",
    "import pandas as pd\n",
    "import numpy as np\n",
    "\n",
    "# Set paths\n",
    "sim_path = 'data/sim/train'   # path to simulated images\n",
    "real_path = 'data/real/train' # path to real images"
   ]
  },
  {
   "cell_type": "markdown",
   "metadata": {},
   "source": [
    "## 1. Inspect Classes and Counts"
   ]
  },
  {
   "cell_type": "code",
   "metadata": {},
   "source": [
    "def get_class_counts(path):\n",
    "    classes = sorted(os.listdir(path))\n",
    "    counts = {}\n",
    "    for c in classes:\n",
    "        c_path = os.path.join(path, c)\n",
    "        counts[c] = len(os.listdir(c_path))\n",
    "    return counts\n",
    "\n",
    "sim_counts = get_class_counts(sim_path)\n",
    "real_counts = get_class_counts(real_path)\n",
    "\n",
    "print(\"Simulated Dataset Class Counts:\")\n",
    "print(sim_counts)\n",
    "print(\"\\nReal Dataset Class Counts:\")\n",
    "print(real_counts)"
   ]
  },
  {
   "cell_type": "markdown",
   "metadata": {},
   "source": [
    "## 2. Plot Class Distributions"
   ]
  },
  {
   "cell_type": "code",
   "metadata": {},
   "source": [
    "def plot_class_distribution(counts, title):\n",
    "    plt.figure(figsize=(10,5))\n",
    "    plt.bar(counts.keys(), counts.values(), color='skyblue')\n",
    "    plt.title(title)\n",
    "    plt.ylabel('Number of Images')\n",
    "    plt.xticks(rotation=45)\n",
    "    plt.show()\n",
    "\n",
    "plot_class_distribution(sim_counts, 'Simulated Dataset Class Distribution')\n",
    "plot_class_distribution(real_counts, 'Real Dataset Class Distribution')"
   ]
  },
  {
   "cell_type": "markdown",
   "metadata": {},
   "source": [
    "## 3. Show Sample Images per Class"
   ]
  },
  {
   "cell_type": "code",
   "metadata": {},
   "source": [
    "def show_samples(path, n=3):\n",
    "    classes = sorted(os.listdir(path))\n",
    "    plt.figure(figsize=(n*3, len(classes)*3))\n",
    "    for i, c in enumerate(classes):\n",
    "        c_path = os.path.join(path, c)\n",
    "        imgs = os.listdir(c_path)[:n]\n",
    "        for j, img_file in enumerate(imgs):\n",
    "            img_path = os.path.join(c_path, img_file)\n",
    "            img = Image.open(img_path).convert('RGB')\n",
    "            plt.subplot(len(classes), n, i*n+j+1)\n",
    "            plt.imshow(img)\n",
    "            plt.axis('off')\n",
    "            if j==1:\n",
    "                plt.title(c)\n",
    "    plt.show()\n",
    "\n",
    "print('Sample images from simulated dataset:')\n",
    "show_samples(sim_path, n=3)\n",
    "\n",
    "print('Sample images from real dataset:')\n",
    "show_samples(real_path, n=3)"
   ]
  },
  {
   "cell_type": "markdown",
   "metadata": {},
   "source": [
    "## 4. Compute Dataset Summary"
   ]
  },
  {
   "cell_type": "code",
   "metadata": {},
   "source": [
    "def dataset_summary(path):\n",
    "    classes = sorted(os.listdir(path))\n",
    "    total_images = sum(len(os.listdir(os.path.join(path, c))) for c in classes)\n",
    "    return {'num_classes': len(classes), 'num_images': total_images}\n",
    "\n",
    "print('Simulated Dataset Summary:', dataset_summary(sim_path))\n",
    "print('Real Dataset Summary:', dataset_summary(real_path))"
   ]
  }
 ],
 "metadata": {
  "kernelspec": {
   "display_name": "Python 3",
   "language": "python",
   "name": "python3"
  },
  "language_info": {
   "name": "python",
   "version": "3.9"
  }
 },
 "nbformat": 4,
 "nbformat_minor": 5
}
